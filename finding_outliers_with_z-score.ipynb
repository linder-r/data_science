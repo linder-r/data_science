{
 "cells": [
  {
   "cell_type": "markdown",
   "metadata": {},
   "source": [
    "### Finding outliers with z-score"
   ]
  },
  {
   "cell_type": "markdown",
   "metadata": {},
   "source": [
    "We will use the 'Unemployment' dataset from the pydataset library.\n",
    "\n",
    "Our goal is to find all the outliers regarding the duration of unemployment.\n",
    "\n",
    "We will use the z-score to define the outliers.\n",
    "\n",
    "Outliers are all records with a duration z-score greater than +3."
   ]
  },
  {
   "cell_type": "code",
   "execution_count": 18,
   "metadata": {},
   "outputs": [],
   "source": [
    "# Install pydataset, if not already installed\n",
    "# !pip install pydataset\n",
    "\n",
    "# Importing libraries\n",
    "import pydataset"
   ]
  },
  {
   "cell_type": "code",
   "execution_count": 19,
   "metadata": {},
   "outputs": [],
   "source": [
    "# Load the dataset 'Unemployment' from pydataset\n",
    "df = pydataset.data('Unemployment')"
   ]
  },
  {
   "cell_type": "code",
   "execution_count": 20,
   "metadata": {},
   "outputs": [
    {
     "name": "stdout",
     "output_type": "stream",
     "text": [
      "   duration  spell      race     sex  reason search pubemp  ftp1  ftp2  ftp3  \\\n",
      "1         4      1     white    male  reentr    yes    yes     1     0     0   \n",
      "2         7      0     white    male    lose     no     no     1     1     1   \n",
      "3         1      0  nonwhite    male    lose     no     no     0     0     0   \n",
      "4         1      1  nonwhite    male  reentr     no     no     0     1     0   \n",
      "5         3      1  nonwhite  female  reentr     no     no     0     0     0   \n",
      "\n",
      "   ftp4  nobs  \n",
      "1     0     1  \n",
      "2     1     2  \n",
      "3     0     1  \n",
      "4     0     1  \n",
      "5     0     1  \n"
     ]
    }
   ],
   "source": [
    "# Print the first 5 rows of the dataset\n",
    "print(df.head())"
   ]
  },
  {
   "cell_type": "code",
   "execution_count": 21,
   "metadata": {},
   "outputs": [],
   "source": [
    "# Calculate the mean of the 'duration' column\n",
    "mean = df['duration'].mean()"
   ]
  },
  {
   "cell_type": "code",
   "execution_count": 22,
   "metadata": {},
   "outputs": [],
   "source": [
    "# Calcutalte the standard deviation of the 'duration' column\n",
    "std = df['duration'].std()"
   ]
  },
  {
   "cell_type": "code",
   "execution_count": 23,
   "metadata": {},
   "outputs": [],
   "source": [
    "# Calculate the z-score of the 'duration' column\n",
    "df['z_score'] = (df['duration'] - mean) / std"
   ]
  },
  {
   "cell_type": "code",
   "execution_count": 24,
   "metadata": {},
   "outputs": [],
   "source": [
    "# Find the number of rows that have a z-score greater than 3. Mark outliers as True, otherwise False\n",
    "df['outlier'] = df['z_score'] > 3"
   ]
  },
  {
   "cell_type": "code",
   "execution_count": 25,
   "metadata": {},
   "outputs": [
    {
     "name": "stdout",
     "output_type": "stream",
     "text": [
      "1     False\n",
      "2     False\n",
      "3     False\n",
      "4     False\n",
      "5     False\n",
      "6     False\n",
      "7     False\n",
      "8     False\n",
      "9      True\n",
      "10    False\n",
      "11    False\n",
      "12     True\n",
      "13    False\n",
      "14    False\n",
      "15    False\n",
      "Name: outlier, dtype: bool\n"
     ]
    }
   ],
   "source": [
    "# Print the first 15 rows of the outlier column\n",
    "print(df['outlier'].head(15))"
   ]
  },
  {
   "cell_type": "code",
   "execution_count": 26,
   "metadata": {},
   "outputs": [
    {
     "name": "stdout",
     "output_type": "stream",
     "text": [
      "     duration  spell      race     sex  reason search pubemp  ftp1  ftp2  \\\n",
      "9         113      0     white  female  reentr     no     no     0     0   \n",
      "12        104      0     white    male   leave    yes     no     1     0   \n",
      "16        104      1     white  female    lose    yes     no     1     0   \n",
      "26        104      1  nonwhite    male  reentr    yes    yes     0     1   \n",
      "35        108      1     white    male    lose     no     no     1     1   \n",
      "36        104      1     white  female    lose    yes     no     0     1   \n",
      "51        104      1     white    male  reentr    yes    yes     1     0   \n",
      "176       104      1     white  female   leave     no     no     0     0   \n",
      "232       117      0     white    male    lose     no    yes     1     1   \n",
      "236       100      0     white    male    lose     no    yes     1     1   \n",
      "244       109      0  nonwhite  female    lose     no    yes     1     1   \n",
      "252       112      1     white  female  reentr     no     no     1     1   \n",
      "256       104      1  nonwhite  female     new    yes    yes     1     0   \n",
      "300       104      0  nonwhite  female  reentr     no     no     1     0   \n",
      "\n",
      "     ftp3  ftp4  nobs   z_score  outlier  \n",
      "9       0     0     3  4.093111     True  \n",
      "12      0     1     1  3.703246     True  \n",
      "16      1     0     1  3.703246     True  \n",
      "26      0     0     1  3.703246     True  \n",
      "35      0     1     2  3.876519     True  \n",
      "36      0     0     1  3.703246     True  \n",
      "51      0     0     1  3.703246     True  \n",
      "176     0     0     1  3.703246     True  \n",
      "232     1     1     4  4.266385     True  \n",
      "236     1     1     4  3.529972     True  \n",
      "244     1     1     2  3.919838     True  \n",
      "252     1     0     3  4.049793     True  \n",
      "256     0     0     1  3.703246     True  \n",
      "300     0     1     1  3.703246     True  \n"
     ]
    }
   ],
   "source": [
    "# Print only the outliers\n",
    "print(df[df['outlier'] == True])"
   ]
  },
  {
   "cell_type": "code",
   "execution_count": 27,
   "metadata": {},
   "outputs": [
    {
     "name": "stdout",
     "output_type": "stream",
     "text": [
      "outlier\n",
      "False    438\n",
      "True      14\n",
      "Name: count, dtype: int64\n"
     ]
    }
   ],
   "source": [
    "# Count the number of outliers\n",
    "print(df['outlier'].value_counts())"
   ]
  },
  {
   "cell_type": "markdown",
   "metadata": {},
   "source": [
    "### Now, let's calculate the outliers based on the different categories of the reason , to see if we get different outliers"
   ]
  },
  {
   "cell_type": "code",
   "execution_count": 28,
   "metadata": {},
   "outputs": [
    {
     "data": {
      "text/plain": [
       "array(['reentr', 'lose', 'leave', 'new'], dtype=object)"
      ]
     },
     "execution_count": 28,
     "metadata": {},
     "output_type": "execute_result"
    }
   ],
   "source": [
    "# Show unique values in the reason column\n",
    "df['reason'].unique()"
   ]
  },
  {
   "cell_type": "code",
   "execution_count": 29,
   "metadata": {},
   "outputs": [
    {
     "data": {
      "text/plain": [
       "reason\n",
       "leave     18.130435\n",
       "lose      21.362573\n",
       "new       13.097561\n",
       "reentr    16.952703\n",
       "Name: duration, dtype: float64"
      ]
     },
     "execution_count": 29,
     "metadata": {},
     "output_type": "execute_result"
    }
   ],
   "source": [
    "# Calculate the mean of the duration column for each category in the reason column\n",
    "df.groupby('reason').duration.mean()"
   ]
  },
  {
   "cell_type": "code",
   "execution_count": 30,
   "metadata": {},
   "outputs": [
    {
     "data": {
      "text/plain": [
       "reason\n",
       "leave     21.378441\n",
       "lose      25.047428\n",
       "new       17.377866\n",
       "reentr    22.895009\n",
       "Name: duration, dtype: float64"
      ]
     },
     "execution_count": 30,
     "metadata": {},
     "output_type": "execute_result"
    }
   ],
   "source": [
    "# Calcualte the standard deviation of the duration column for each category in the reason column\n",
    "df.groupby('reason').duration.std()"
   ]
  },
  {
   "cell_type": "code",
   "execution_count": 31,
   "metadata": {},
   "outputs": [],
   "source": [
    "# Calculate the z-score of the duration column for each category in the reason column and assign the values to a new column called z-score_grouped\n",
    "df['z_score_grouped'] = df.groupby('reason').duration.transform(lambda x: (x - x.mean()) / x.std())"
   ]
  },
  {
   "cell_type": "code",
   "execution_count": 32,
   "metadata": {},
   "outputs": [],
   "source": [
    "# Create a new column called outlier and mark the values that have a z-score greater than 3 as True, otherwise False\n",
    "df['outlier_grouped'] = df['z_score_grouped'] > 3"
   ]
  },
  {
   "cell_type": "code",
   "execution_count": 33,
   "metadata": {},
   "outputs": [
    {
     "data": {
      "text/plain": [
       "reason\n",
       "leave     2\n",
       "lose      6\n",
       "new       1\n",
       "reentr    5\n",
       "Name: outlier_grouped, dtype: int64"
      ]
     },
     "execution_count": 33,
     "metadata": {},
     "output_type": "execute_result"
    }
   ],
   "source": [
    "# Calculate the number of outliers for each category in the reason column\n",
    "df.groupby('reason').outlier_grouped.sum()"
   ]
  },
  {
   "cell_type": "code",
   "execution_count": 37,
   "metadata": {},
   "outputs": [
    {
     "name": "stdout",
     "output_type": "stream",
     "text": [
      "Ungrouped outliers: 14\n",
      "Grouped outliers: 14\n"
     ]
    }
   ],
   "source": [
    "# Compare the number of outliers for each category in the reason column with the number of ungrouped outliers for the entire dataset\n",
    "print(\"Ungrouped outliers:\" , df['outlier'].sum())\n",
    "print(\"Grouped outliers:\" , df['outlier_grouped'].sum())\n"
   ]
  },
  {
   "cell_type": "code",
   "execution_count": 36,
   "metadata": {},
   "outputs": [
    {
     "name": "stdout",
     "output_type": "stream",
     "text": [
      "      z_score  z_score_grouped\n",
      "1   -0.628596        -0.565744\n",
      "2   -0.498641        -0.573415\n",
      "3   -0.758551        -0.812961\n",
      "4   -0.758551        -0.696776\n",
      "5   -0.671915        -0.609421\n",
      "..        ...              ...\n",
      "448  1.060822         0.863858\n",
      "449 -0.282049        -0.216322\n",
      "450  1.450688         1.584286\n",
      "451 -0.282049        -0.216322\n",
      "452  0.107817         0.176776\n",
      "\n",
      "[452 rows x 2 columns]\n"
     ]
    }
   ],
   "source": [
    "# Print z_score and z_score_grouped for each row\n",
    "print(df[['z_score', 'z_score_grouped']])"
   ]
  },
  {
   "cell_type": "code",
   "execution_count": 38,
   "metadata": {},
   "outputs": [
    {
     "name": "stdout",
     "output_type": "stream",
     "text": [
      "     outlier  outlier_grouped\n",
      "1      False            False\n",
      "2      False            False\n",
      "3      False            False\n",
      "4      False            False\n",
      "5      False            False\n",
      "..       ...              ...\n",
      "448    False            False\n",
      "449    False            False\n",
      "450    False            False\n",
      "451    False            False\n",
      "452    False            False\n",
      "\n",
      "[452 rows x 2 columns]\n"
     ]
    }
   ],
   "source": [
    "# Print outliers and outliers_grouped for each row\n",
    "print(df[['outlier', 'outlier_grouped']])"
   ]
  },
  {
   "cell_type": "code",
   "execution_count": 39,
   "metadata": {},
   "outputs": [
    {
     "data": {
      "text/html": [
       "<div>\n",
       "<style scoped>\n",
       "    .dataframe tbody tr th:only-of-type {\n",
       "        vertical-align: middle;\n",
       "    }\n",
       "\n",
       "    .dataframe tbody tr th {\n",
       "        vertical-align: top;\n",
       "    }\n",
       "\n",
       "    .dataframe thead th {\n",
       "        text-align: right;\n",
       "    }\n",
       "</style>\n",
       "<table border=\"1\" class=\"dataframe\">\n",
       "  <thead>\n",
       "    <tr style=\"text-align: right;\">\n",
       "      <th></th>\n",
       "      <th>duration</th>\n",
       "      <th>spell</th>\n",
       "      <th>race</th>\n",
       "      <th>sex</th>\n",
       "      <th>reason</th>\n",
       "      <th>search</th>\n",
       "      <th>pubemp</th>\n",
       "      <th>ftp1</th>\n",
       "      <th>ftp2</th>\n",
       "      <th>ftp3</th>\n",
       "      <th>ftp4</th>\n",
       "      <th>nobs</th>\n",
       "      <th>z_score</th>\n",
       "      <th>outlier</th>\n",
       "      <th>z_score_grouped</th>\n",
       "      <th>outlier_grouped</th>\n",
       "    </tr>\n",
       "  </thead>\n",
       "  <tbody>\n",
       "  </tbody>\n",
       "</table>\n",
       "</div>"
      ],
      "text/plain": [
       "Empty DataFrame\n",
       "Columns: [duration, spell, race, sex, reason, search, pubemp, ftp1, ftp2, ftp3, ftp4, nobs, z_score, outlier, z_score_grouped, outlier_grouped]\n",
       "Index: []"
      ]
     },
     "execution_count": 39,
     "metadata": {},
     "output_type": "execute_result"
    }
   ],
   "source": [
    "# Find all the rows where outliers and outliers_grouped are not equal\n",
    "df[df['outlier'] != df['outlier_grouped']]"
   ]
  },
  {
   "cell_type": "markdown",
   "metadata": {},
   "source": [
    "#### Result: Our different ways to calculate the outliers didn't make a difference. Outliers und outliers based on the different reason categories are the same. "
   ]
  }
 ],
 "metadata": {
  "kernelspec": {
   "display_name": "Python 3",
   "language": "python",
   "name": "python3"
  },
  "language_info": {
   "codemirror_mode": {
    "name": "ipython",
    "version": 3
   },
   "file_extension": ".py",
   "mimetype": "text/x-python",
   "name": "python",
   "nbconvert_exporter": "python",
   "pygments_lexer": "ipython3",
   "version": "3.12.0"
  }
 },
 "nbformat": 4,
 "nbformat_minor": 2
}
